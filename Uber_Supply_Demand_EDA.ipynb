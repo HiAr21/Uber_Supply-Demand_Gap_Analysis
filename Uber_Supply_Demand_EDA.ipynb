{
  "nbformat": 4,
  "nbformat_minor": 0,
  "metadata": {
    "colab": {
      "private_outputs": true,
      "provenance": [],
      "collapsed_sections": [
        "vncDsAP0Gaoa",
        "FJNUwmbgGyua",
        "w6K7xa23Elo4",
        "yQaldy8SH6Dl",
        "PH-0ReGfmX4f",
        "mDgbUHAGgjLW",
        "O_i_v8NEhb9l",
        "HhfV-JJviCcP",
        "Y3lxredqlCYt",
        "3RnN4peoiCZX",
        "x71ZqKXriCWQ",
        "7hBIi_osiCS2",
        "JlHwYmJAmNHm",
        "35m5QtbWiB9F",
        "PoPl-ycgm1ru",
        "H0kj-8xxnORC",
        "nA9Y7ga8ng1Z",
        "PBTbrJXOngz2",
        "u3PMJOP6ngxN",
        "dauF4eBmngu3",
        "bKJF3rekwFvQ",
        "MSa1f5Uengrz",
        "GF8Ens_Soomf",
        "0wOQAZs5pc--",
        "K5QZ13OEpz2H",
        "lQ7QKXXCp7Bj",
        "448CDAPjqfQr",
        "KSlN3yHqYklG",
        "t6dVpIINYklI",
        "ijmpgYnKYklI",
        "-JiQyfWJYklI",
        "EM7whBJCYoAo",
        "fge-S5ZAYoAp",
        "85gYPyotYoAp",
        "RoGjAbkUYoAp",
        "4Of9eVA-YrdM",
        "iky9q4vBYrdO",
        "F6T5p64dYrdO",
        "y-Ehk30pYrdP",
        "bamQiAODYuh1",
        "QHF8YVU7Yuh3",
        "GwzvFGzlYuh3",
        "qYpmQ266Yuh3",
        "OH-pJp9IphqM",
        "bbFf2-_FphqN",
        "_ouA3fa0phqN",
        "Seke61FWphqN",
        "PIIx-8_IphqN",
        "t27r6nlMphqO",
        "r2jJGEOYphqO",
        "b0JNsNcRphqO",
        "BZR9WyysphqO",
        "jj7wYXLtphqO",
        "eZrbJ2SmphqO",
        "rFu4xreNphqO",
        "YJ55k-q6phqO",
        "gCFgpxoyphqP",
        "OVtJsKN_phqQ",
        "lssrdh5qphqQ",
        "U2RJ9gkRphqQ",
        "1M8mcRywphqQ",
        "tgIPom80phqQ",
        "JMzcOPDDphqR",
        "x-EpHcCOp1ci",
        "X_VqEhTip1ck",
        "8zGJKyg5p1ck",
        "PVzmfK_Ep1ck",
        "n3dbpmDWp1ck",
        "ylSl6qgtp1ck",
        "ZWILFDl5p1ck",
        "M7G43BXep1ck",
        "Ag9LCva-p1cl",
        "E6MkPsBcp1cl",
        "2cELzS2fp1cl",
        "3MPXvC8up1cl",
        "NC_X3p0fY2L0",
        "UV0SzAkaZNRQ",
        "YPEH6qLeZNRQ",
        "q29F0dvdveiT",
        "EXh0U9oCveiU",
        "22aHeOlLveiV",
        "JcMwzZxoAimU",
        "8G2x9gOozGDZ",
        "gCX9965dhzqZ",
        "gIfDvo9L0UH2"
      ]
    },
    "kernelspec": {
      "name": "python3",
      "display_name": "Python 3"
    },
    "language_info": {
      "name": "python"
    }
  },
  "cells": [
    {
      "cell_type": "markdown",
      "source": [
        "# **Uber Supply-Demand Gap Analysis**    -\n",
        "\n"
      ],
      "metadata": {
        "id": "vncDsAP0Gaoa"
      }
    },
    {
      "cell_type": "markdown",
      "source": [
        "##### **Project Type**    - Exploratory Data Analysis(EDA)\n",
        "##### **Contribution**    - Individual\n",
        "##### **Team Member 1 -** Himanshu Arya"
      ],
      "metadata": {
        "id": "beRrZCGUAJYm"
      }
    },
    {
      "cell_type": "markdown",
      "source": [
        "# **Project Summary -**"
      ],
      "metadata": {
        "id": "FJNUwmbgGyua"
      }
    },
    {
      "cell_type": "markdown",
      "source": [
        "This project analyzes Uber request data to identify and explain the mismatch between ride demand and supply. It uses real-world data to uncover time-based and location-based issues such as high cancellation rate, \"No Cars Available spikes, and low trip fulfillment in key time slots.\n",
        "\n",
        "I used Python for EDA. I used Pandas for analyzing the data and Matplotlib & Seaborn for the visualization.\n",
        "\n",
        "The findings can help Uber improve driver allocation, reduce cancellation, and enhance customer satisfaction."
      ],
      "metadata": {
        "id": "F6v_1wHtG2nS"
      }
    },
    {
      "cell_type": "markdown",
      "source": [
        "# **GitHub Link -**"
      ],
      "metadata": {
        "id": "w6K7xa23Elo4"
      }
    },
    {
      "cell_type": "markdown",
      "source": [
        "https://github.com/HiAr21/Uber_Supply-Demand_Gap_AnalysisProvide"
      ],
      "metadata": {
        "id": "h1o69JH3Eqqn"
      }
    },
    {
      "cell_type": "markdown",
      "source": [
        "# **Problem Statement**\n"
      ],
      "metadata": {
        "id": "yQaldy8SH6Dl"
      }
    },
    {
      "cell_type": "markdown",
      "source": [
        "In many urban regions, Uber experiences frequent demand-supply mismatches, leading to poor user experience such as no cars available or high cancellation, especially during peak hours.\n",
        "Aim to identify:\n",
        "- When and where demand is high\n",
        "- When and where supply fails\n",
        "- Which combination of time and pickup point are most problematic"
      ],
      "metadata": {
        "id": "DpeJGUA3kjGy"
      }
    },
    {
      "cell_type": "markdown",
      "source": [
        "#### **Define Your Business Objective?**"
      ],
      "metadata": {
        "id": "PH-0ReGfmX4f"
      }
    },
    {
      "cell_type": "markdown",
      "source": [
        "The objective is to perform a detailed EDA to:\n",
        "\n",
        "- Identify periods with peak demand and low supply\n",
        "- Quantify supply shortfall using trip completion data\n",
        "- Provide actionable insights to reduce failed bookings\n",
        "- Recommend data-driven solutions to improve Uber’s operational efficiencyAnswer Here."
      ],
      "metadata": {
        "id": "PhDvGCAqmjP1"
      }
    },
    {
      "cell_type": "markdown",
      "source": [
        "# **General Guidelines** : -  "
      ],
      "metadata": {
        "id": "mDgbUHAGgjLW"
      }
    },
    {
      "cell_type": "markdown",
      "source": [
        "1.   Well-structured, formatted, and commented code is required.\n",
        "2.   Exception Handling, Production Grade Code & Deployment Ready Code will be a plus. Those students will be awarded some additional credits.\n",
        "     \n",
        "     The additional credits will have advantages over other students during Star Student selection.\n",
        "       \n",
        "             [ Note: - Deployment Ready Code is defined as, the whole .ipynb notebook should be executable in one go\n",
        "                       without a single error logged. ]\n",
        "\n",
        "3.   Each and every logic should have proper comments.\n",
        "4. You may add as many number of charts you want. Make Sure for each and every chart the following format should be answered.\n",
        "        \n",
        "\n",
        "```\n",
        "# Chart visualization code\n",
        "```\n",
        "            \n",
        "\n",
        "*   Why did you pick the specific chart?\n",
        "*   What is/are the insight(s) found from the chart?\n",
        "* Will the gained insights help creating a positive business impact?\n",
        "Are there any insights that lead to negative growth? Justify with specific reason.\n",
        "\n",
        "5. You have to create at least 20 logical & meaningful charts having important insights.\n",
        "\n",
        "\n",
        "[ Hints : - Do the Vizualization in  a structured way while following \"UBM\" Rule.\n",
        "\n",
        "U - Univariate Analysis,\n",
        "\n",
        "B - Bivariate Analysis (Numerical - Categorical, Numerical - Numerical, Categorical - Categorical)\n",
        "\n",
        "M - Multivariate Analysis\n",
        " ]\n",
        "\n",
        "\n",
        "\n"
      ],
      "metadata": {
        "id": "ZrxVaUj-hHfC"
      }
    },
    {
      "cell_type": "markdown",
      "source": [
        "# ***Let's Begin !***"
      ],
      "metadata": {
        "id": "O_i_v8NEhb9l"
      }
    },
    {
      "cell_type": "markdown",
      "source": [
        "## ***1. Know Your Data***"
      ],
      "metadata": {
        "id": "HhfV-JJviCcP"
      }
    },
    {
      "cell_type": "markdown",
      "source": [
        "### Import Libraries"
      ],
      "metadata": {
        "id": "Y3lxredqlCYt"
      }
    },
    {
      "cell_type": "code",
      "source": [
        "# Import Libraries\n",
        "import numpy as np\n",
        "import pandas as pd\n",
        "import matplotlib.pyplot as plt\n",
        "import seaborn as sns"
      ],
      "metadata": {
        "id": "M8Vqi-pPk-HR"
      },
      "execution_count": null,
      "outputs": []
    },
    {
      "cell_type": "markdown",
      "source": [
        "### Dataset Loading"
      ],
      "metadata": {
        "id": "3RnN4peoiCZX"
      }
    },
    {
      "cell_type": "code",
      "source": [
        "from google.colab import files\n",
        "uploaded = files.upload()"
      ],
      "metadata": {
        "id": "t1aE_QdYi1hk"
      },
      "execution_count": null,
      "outputs": []
    },
    {
      "cell_type": "code",
      "source": [
        "# Load Dataset\n",
        "df = pd.read_csv(\"uber_data_eda.csv\")"
      ],
      "metadata": {
        "id": "4CkvbW_SlZ_R"
      },
      "execution_count": null,
      "outputs": []
    },
    {
      "cell_type": "markdown",
      "source": [
        "### Dataset First View"
      ],
      "metadata": {
        "id": "x71ZqKXriCWQ"
      }
    },
    {
      "cell_type": "code",
      "source": [
        "# Dataset First Look\n",
        "df.head()"
      ],
      "metadata": {
        "id": "LWNFOSvLl09H"
      },
      "execution_count": null,
      "outputs": []
    },
    {
      "cell_type": "markdown",
      "source": [
        "### Dataset Rows & Columns count"
      ],
      "metadata": {
        "id": "7hBIi_osiCS2"
      }
    },
    {
      "cell_type": "code",
      "source": [
        "# Dataset Rows & Columns count\n",
        "(no_of_row,no_of_col)=df.shape\n",
        "print(f\"Number of Rows : {no_of_row}\")\n",
        "print(f\"Number of Columns : {no_of_col}\")"
      ],
      "metadata": {
        "id": "Kllu7SJgmLij"
      },
      "execution_count": null,
      "outputs": []
    },
    {
      "cell_type": "markdown",
      "source": [
        "### Dataset Information"
      ],
      "metadata": {
        "id": "JlHwYmJAmNHm"
      }
    },
    {
      "cell_type": "code",
      "source": [
        "# Dataset Info\n",
        "df.info()"
      ],
      "metadata": {
        "id": "e9hRXRi6meOf"
      },
      "execution_count": null,
      "outputs": []
    },
    {
      "cell_type": "markdown",
      "source": [
        "#### Duplicate Values"
      ],
      "metadata": {
        "id": "35m5QtbWiB9F"
      }
    },
    {
      "cell_type": "code",
      "source": [
        "# Dataset Duplicate Value Count\n",
        "df.duplicated().sum()"
      ],
      "metadata": {
        "id": "1sLdpKYkmox0"
      },
      "execution_count": null,
      "outputs": []
    },
    {
      "cell_type": "markdown",
      "source": [
        "#### Missing Values/Null Values"
      ],
      "metadata": {
        "id": "PoPl-ycgm1ru"
      }
    },
    {
      "cell_type": "code",
      "source": [
        "# Missing Values/Null Values Count\n",
        "df.isnull().sum()"
      ],
      "metadata": {
        "id": "GgHWkxvamxVg"
      },
      "execution_count": null,
      "outputs": []
    },
    {
      "cell_type": "code",
      "source": [
        "# Visualizing the missing values\n",
        "sns.heatmap(df.isnull(),cbar=False)"
      ],
      "metadata": {
        "id": "3q5wnI3om9sJ"
      },
      "execution_count": null,
      "outputs": []
    },
    {
      "cell_type": "markdown",
      "source": [
        "### What did you know about your dataset?"
      ],
      "metadata": {
        "id": "H0kj-8xxnORC"
      }
    },
    {
      "cell_type": "markdown",
      "source": [
        "The dataset contains detailed Uber ride request logs collected over a few days. Each row represents a unique ride request and includes:\n",
        "\n",
        "- Request & Drop timestamps\n",
        "\n",
        "- Pickup Point (either City or Airport)\n",
        "\n",
        "- Driver ID (if a driver was assigned)\n",
        "\n",
        "- Request Status — either:\n",
        "  - Trip Completed\n",
        "  - Cancelled\n",
        "  - No Cars Available\n",
        "\n",
        "The dataset also includes additional derived fields such as:\n",
        "\n",
        "- Request Hour and Time Slot (Morning, Day, Evening, Late Night)\n",
        "\n",
        "- A flag indicating whether the trip was completed or not"
      ],
      "metadata": {
        "id": "gfoNAAC-nUe_"
      }
    },
    {
      "cell_type": "markdown",
      "source": [
        "## ***2. Understanding Your Variables***"
      ],
      "metadata": {
        "id": "nA9Y7ga8ng1Z"
      }
    },
    {
      "cell_type": "code",
      "source": [
        "# Dataset Columns\n",
        "df.columns"
      ],
      "metadata": {
        "id": "j7xfkqrt5Ag5"
      },
      "execution_count": null,
      "outputs": []
    },
    {
      "cell_type": "code",
      "source": [
        "# Dataset Describe\n",
        "df.describe()"
      ],
      "metadata": {
        "id": "DnOaZdaE5Q5t"
      },
      "execution_count": null,
      "outputs": []
    },
    {
      "cell_type": "markdown",
      "source": [
        "### Check Unique Values for each variable."
      ],
      "metadata": {
        "id": "u3PMJOP6ngxN"
      }
    },
    {
      "cell_type": "code",
      "source": [
        "df['Request Date'].unique()"
      ],
      "metadata": {
        "id": "mDbXgxDUrDLt"
      },
      "execution_count": null,
      "outputs": []
    },
    {
      "cell_type": "code",
      "source": [
        "df.nunique()"
      ],
      "metadata": {
        "id": "hyirQdqSpQHM"
      },
      "execution_count": null,
      "outputs": []
    },
    {
      "cell_type": "code",
      "source": [
        "# Check Unique Values for each variable.\n",
        "df['Status'].value_counts()"
      ],
      "metadata": {
        "id": "zms12Yq5n-jE"
      },
      "execution_count": null,
      "outputs": []
    },
    {
      "cell_type": "markdown",
      "source": [
        "## 3. ***Data Wrangling***"
      ],
      "metadata": {
        "id": "dauF4eBmngu3"
      }
    },
    {
      "cell_type": "markdown",
      "source": [
        "### Data Wrangling Code"
      ],
      "metadata": {
        "id": "bKJF3rekwFvQ"
      }
    },
    {
      "cell_type": "code",
      "source": [
        "# Convert datatype of date&time to datetime\n",
        "df['Request Date & Time'] = pd.to_datetime(df['Request Date & Time'],format='%d/%m/%Y %H:%M:%S')\n",
        "df['Drop Date & Time'] = pd.to_datetime(df['Drop Date & Time'],format='%d/%m/%Y %H:%M:%S')\n",
        "\n",
        "df['Request Date'] = pd.to_datetime(df['Request Date'],format='%d/%m/%Y')\n",
        "df['Drop Date'] = df['Drop Date & Time'].dt.date\n",
        "df['Drop Date'] = pd.to_datetime(df['Drop Date'],format='%d/%m/%Y')"
      ],
      "metadata": {
        "id": "alc8F7f-piio"
      },
      "execution_count": null,
      "outputs": []
    },
    {
      "cell_type": "code",
      "source": [
        "df['Request Time'] = pd.to_datetime(df['Request Time'],format='%H:%M:%S')"
      ],
      "metadata": {
        "id": "38CcQqWpPcYp"
      },
      "execution_count": null,
      "outputs": []
    },
    {
      "cell_type": "code",
      "source": [
        "df['Drop Time'] = df['Drop Date & Time'].dt.time"
      ],
      "metadata": {
        "id": "UcvRtLdFdrdE"
      },
      "execution_count": null,
      "outputs": []
    },
    {
      "cell_type": "code",
      "source": [
        "df.info()"
      ],
      "metadata": {
        "id": "SzkMtAyer5qH"
      },
      "execution_count": null,
      "outputs": []
    },
    {
      "cell_type": "code",
      "source": [
        "# Create Gap Score of Trips completed and Total requests (demand - supply)\n",
        "df['Trip Completed'] = df['Status'] == 'Trip Completed'\n",
        "\n",
        "gap_df = df.groupby(['Time Slot', 'Pickup point'])['Trip Completed'].agg(['count', 'sum']).reset_index()\n",
        "gap_df['Gap_Score'] = gap_df['count'] - gap_df['sum']\n",
        "gap_df.rename(columns={'count': 'Total_Requests', 'sum': 'Trips_Completed'}, inplace=True)\n",
        "\n",
        "gap_df['Trip_Completed(%)'] = gap_df['Trips_Completed']/gap_df['Total_Requests']*100\n",
        "\n",
        "gap_df.sort_values(by='Trip_Completed(%)', ascending=False)\n",
        "\n",
        "gap_df"
      ],
      "metadata": {
        "id": "U7AsOCOTjclA"
      },
      "execution_count": null,
      "outputs": []
    },
    {
      "cell_type": "code",
      "source": [
        "#chart-4 Status Proportion by Pickup Point\n",
        "pickup_status = df.groupby(['Pickup point', 'Status']).size().reset_index(name='count')\n",
        "pickup_total = df.groupby('Pickup point').size().reset_index(name='total')\n",
        "pickup_status = pickup_status.merge(pickup_total, on='Pickup point')\n",
        "pickup_status['percent'] = (pickup_status['count'] / pickup_status['total']) * 100\n",
        "\n",
        "pickup_status"
      ],
      "metadata": {
        "id": "1Sgx78gdMWcR"
      },
      "execution_count": null,
      "outputs": []
    },
    {
      "cell_type": "code",
      "source": [
        "#chart-5 Heatmap: Hour vs Status\n",
        "\n",
        "heat_data = df.groupby(['Request Hour', 'Status']).size().unstack().fillna(0)\n",
        "heat_data"
      ],
      "metadata": {
        "id": "AzQaHGy-p5Lu"
      },
      "execution_count": null,
      "outputs": []
    },
    {
      "cell_type": "code",
      "source": [
        "#chart-6 Trip Duration Distribution\n",
        "\n",
        "df['Trip Duration (min)'] = (df[df['Status']=='Trip Completed']['Drop Date & Time'] - df[df['Status']=='Trip Completed']['Request Date & Time']).dt.total_seconds() / 60\n",
        "df.loc[df['Status'] != 'Trip Completed', 'Trip Duration (min)'] = None\n",
        "\n",
        "completed_trips = df[df['Status'] == 'Trip Completed']\n",
        "\n",
        "completed_trips.head()\n"
      ],
      "metadata": {
        "id": "ycGimpDrOxyq"
      },
      "execution_count": null,
      "outputs": []
    },
    {
      "cell_type": "code",
      "source": [
        "#chart-7 % of No Cars/Cancellations per Time Slot\n",
        "\n",
        "slot_status = df.groupby(['Time Slot', 'Status']).size().reset_index(name='count')\n",
        "slot_total = df.groupby('Time Slot').size().reset_index(name='total')\n",
        "slot_status = slot_status.merge(slot_total, on='Time Slot')\n",
        "slot_status['percent'] = (slot_status['count'] / slot_status['total']) * 100\n",
        "\n",
        "slot_status"
      ],
      "metadata": {
        "id": "Dq8R5S2mOxs9"
      },
      "execution_count": null,
      "outputs": []
    },
    {
      "cell_type": "code",
      "source": [
        "#chart-8 Pickup Point vs Time Slot Heatmap\n",
        "\n",
        "pt_heat = df.groupby(['Pickup point', 'Time Slot'])['Status'].value_counts().unstack().fillna(0)\n",
        "\n",
        "pt_heat"
      ],
      "metadata": {
        "id": "EiKGmRVwOxTW"
      },
      "execution_count": null,
      "outputs": []
    },
    {
      "cell_type": "code",
      "source": [
        "#chart-9 Line Plot of Requests Over Time (Daily)\n",
        "\n",
        "requests_per_day = df.groupby('Request Date').size().reset_index(name='Requests')\n",
        "requests_per_day"
      ],
      "metadata": {
        "id": "fpeFiO6ylf0C"
      },
      "execution_count": null,
      "outputs": []
    },
    {
      "cell_type": "markdown",
      "source": [
        "### What all manipulations have you done and insights you found?\n"
      ],
      "metadata": {
        "id": "MSa1f5Uengrz"
      }
    },
    {
      "cell_type": "markdown",
      "source": [
        "1. Converted Date & Time Columns to datetime format\n",
        "\n",
        "  * Both Request Date & Time and Drop Date & Time were in mixed formats.\n",
        "  * Standardized them using pd.to_datetime() with day-first parsing to ensure accurate time-based analysis.\n",
        "\n",
        "2. Created Request Hour and Time Slot columns\n",
        "\n",
        "  * Request Hour was extracted from the datetime to understand hourly trends.\n",
        "\n",
        "  * Time Slot categorized the day into Late Night, Morning, Day, and Evening — useful for grouping and peak analysis.\n",
        "\n",
        "3. Created Trip Completed Flag\n",
        "\n",
        "  * A binary column to indicate whether the request led to a successful trip (based on Status = \"Trip Completed\").\n",
        "\n",
        "4. Computed Gap Score\n",
        "\n",
        "  * A new metric calculated as:\n",
        "Gap Score = Total Requests - Completed Trips\n",
        "\n",
        "  * Helps quantify the demand-supply gap in each group (time slot, pickup point).\n",
        "\n",
        "5. Calculated Trip Duration (for completed trips)\n",
        "\n",
        "  * Derived from the difference between drop and request timestamps, converted to minutes.\n",
        "\n",
        "  * Used only where both timestamps exist (i.e., for Trip Completed)."
      ],
      "metadata": {
        "id": "LbyXE7I1olp8"
      }
    },
    {
      "cell_type": "markdown",
      "source": [
        "## ***4. Data Vizualization, Storytelling & Experimenting with charts : Understand the relationships between variables***"
      ],
      "metadata": {
        "id": "GF8Ens_Soomf"
      }
    },
    {
      "cell_type": "code",
      "source": [
        "df.head()"
      ],
      "metadata": {
        "id": "zP_NLVRQiZ75"
      },
      "execution_count": null,
      "outputs": []
    },
    {
      "cell_type": "markdown",
      "source": [
        "#### Chart - 1"
      ],
      "metadata": {
        "id": "0wOQAZs5pc--"
      }
    },
    {
      "cell_type": "code",
      "source": [
        "#1 Request by Hour and Status\n",
        "plt.figure(figsize=(12, 6))\n",
        "sns.countplot(x='Request Hour', hue='Status', data=df)\n",
        "plt.title('Hourly Requests by Status')\n",
        "plt.grid()\n",
        "plt.show()\n"
      ],
      "metadata": {
        "id": "7v_ESjsspbW7"
      },
      "execution_count": null,
      "outputs": []
    },
    {
      "cell_type": "markdown",
      "source": [
        "#### Chart - 2"
      ],
      "metadata": {
        "id": "KSlN3yHqYklG"
      }
    },
    {
      "cell_type": "code",
      "source": [
        "#2 Time Slot vs Status\n",
        "plt.figure(figsize=(8, 5))\n",
        "sns.countplot(x='Time Slot', hue='Status', data=df, order=['Late Night', 'Morning', 'Day', 'Evening'])\n",
        "plt.title('Requests by Time Slot and Status')\n",
        "plt.show()\n"
      ],
      "metadata": {
        "id": "R4YgtaqtYklH"
      },
      "execution_count": null,
      "outputs": []
    },
    {
      "cell_type": "markdown",
      "source": [
        "#### Chart - 3"
      ],
      "metadata": {
        "id": "EM7whBJCYoAo"
      }
    },
    {
      "cell_type": "code",
      "source": [
        "#3 Pickup Point vs Status\n",
        "plt.figure(figsize=(6,4))\n",
        "sns.countplot(x='Pickup point', hue='Status', data=df)\n",
        "plt.title('Request Status by Pickup Point')\n",
        "plt.show()"
      ],
      "metadata": {
        "id": "t6GMdE67YoAp"
      },
      "execution_count": null,
      "outputs": []
    },
    {
      "cell_type": "markdown",
      "source": [
        "#### Chart - 4"
      ],
      "metadata": {
        "id": "4Of9eVA-YrdM"
      }
    },
    {
      "cell_type": "code",
      "source": [
        "# Status Proportion by Pickup Point\n",
        "plt.figure(figsize=(4,2.5))\n",
        "sns.barplot(x='Pickup point', y='percent', hue='Status', data=pickup_status)\n",
        "plt.title('Proportion of Status by Pickup Point (%)')\n",
        "plt.ylabel('Percentage')\n",
        "plt.show()"
      ],
      "metadata": {
        "id": "irlUoxc8YrdO"
      },
      "execution_count": null,
      "outputs": []
    },
    {
      "cell_type": "markdown",
      "source": [
        "Airport has higher No Cars Available %, City has more Cancellations — both signal supply failure but from different causes."
      ],
      "metadata": {
        "id": "Xx8WAJvtYrdO"
      }
    },
    {
      "cell_type": "markdown",
      "source": [
        "##### 1. Why did you pick the specific chart?"
      ],
      "metadata": {
        "id": "iky9q4vBYrdO"
      }
    },
    {
      "cell_type": "markdown",
      "source": [
        "To compare how ride outcomes (Completed, Cancelled, No Cars) vary between City and Airport pickups. A percentage-based bar chart allows clear proportional comparison."
      ],
      "metadata": {
        "id": "aJRCwT6DYrdO"
      }
    },
    {
      "cell_type": "markdown",
      "source": [
        "##### 3. Will the gained insights help creating a positive business impact?\n",
        "Are there any insights that lead to negative growth? Justify with specific reason."
      ],
      "metadata": {
        "id": "y-Ehk30pYrdP"
      }
    },
    {
      "cell_type": "markdown",
      "source": [
        "Yes. Helps Uber focus supply expansion at the Airport and work on cancellation reduction in the City through driver incentives or UI improvements.\n",
        "\n",
        "Yes. Persistent No Cars Available at Airport can push users to competitors or taxis."
      ],
      "metadata": {
        "id": "jLNxxz7MYrdP"
      }
    },
    {
      "cell_type": "markdown",
      "source": [
        "#### Chart - 5"
      ],
      "metadata": {
        "id": "bamQiAODYuh1"
      }
    },
    {
      "cell_type": "code",
      "source": [
        "# Heatmap: Hour vs Status\n",
        "\n",
        "plt.figure(figsize=(6,6))\n",
        "sns.heatmap(heat_data, annot=True, fmt=\".0f\")\n",
        "plt.title(\"Request Status by Hour (Heatmap)\")\n",
        "plt.ylabel(\"Hour of Day\")\n",
        "plt.xlabel(\"Status\")\n",
        "plt.show()"
      ],
      "metadata": {
        "id": "TIJwrbroYuh3"
      },
      "execution_count": null,
      "outputs": []
    },
    {
      "cell_type": "markdown",
      "source": [
        "Shows exactly what status dominates at what hour — e.g., \"No Cars Available\" spike 5–9 AM."
      ],
      "metadata": {
        "id": "uyqkiB8YYuh3"
      }
    },
    {
      "cell_type": "markdown",
      "source": [
        "##### 1. Why did you pick the specific chart?"
      ],
      "metadata": {
        "id": "QHF8YVU7Yuh3"
      }
    },
    {
      "cell_type": "markdown",
      "source": [
        "A heatmap provides a visual intensity map of how status outcomes vary by hour, showing peak problem periods."
      ],
      "metadata": {
        "id": "dcxuIMRPYuh3"
      }
    },
    {
      "cell_type": "markdown",
      "source": [
        "##### 3. Will the gained insights help creating a positive business impact?\n",
        "Are there any insights that lead to negative growth? Justify with specific reason."
      ],
      "metadata": {
        "id": "qYpmQ266Yuh3"
      }
    },
    {
      "cell_type": "markdown",
      "source": [
        "Yes. Time-specific patterns help deploy drivers proactively before peak failure windows.\n",
        "\n",
        "Yes. If these hours continue to fail, Uber could lose commuter and business traffic."
      ],
      "metadata": {
        "id": "_WtzZ_hCYuh4"
      }
    },
    {
      "cell_type": "markdown",
      "source": [
        "#### Chart - 6 : Trip Duration Distribution"
      ],
      "metadata": {
        "id": "OH-pJp9IphqM"
      }
    },
    {
      "cell_type": "code",
      "source": [
        "# Check for null or negative values\n",
        "completed_trips['Trip Duration (min)'].describe()\n",
        "completed_trips[completed_trips['Trip Duration (min)'] < 0].head()\n"
      ],
      "metadata": {
        "id": "EVsoeg6dAlji"
      },
      "execution_count": null,
      "outputs": []
    },
    {
      "cell_type": "code",
      "source": [
        "# Keep only valid durations\n",
        "filtered = completed_trips[\n",
        "    (completed_trips['Trip Duration (min)'] > 0) &\n",
        "    (completed_trips['Trip Duration (min)'] < 120)\n",
        "]"
      ],
      "metadata": {
        "id": "PN-dQCl5AwyM"
      },
      "execution_count": null,
      "outputs": []
    },
    {
      "cell_type": "code",
      "source": [
        "#6 Trip Duration Distribution\n",
        "plt.figure(figsize=(8,5))\n",
        "sns.histplot(filtered['Trip Duration (min)'], bins=40, kde=True)\n",
        "plt.title('Distribution of Trip Durations (Completed Trips)')\n",
        "plt.xlabel('Duration (minutes)')\n",
        "plt.show()"
      ],
      "metadata": {
        "id": "kuRf4wtuphqN"
      },
      "execution_count": null,
      "outputs": []
    },
    {
      "cell_type": "markdown",
      "source": [
        "##### 1. Why did you pick the specific chart?"
      ],
      "metadata": {
        "id": "bbFf2-_FphqN"
      }
    },
    {
      "cell_type": "markdown",
      "source": [
        "To understand how long successful trips take. A histogram with KDE curve reveals duration spread and potential outliers."
      ],
      "metadata": {
        "id": "loh7H2nzphqN"
      }
    },
    {
      "cell_type": "markdown",
      "source": [
        "##### 3. Will the gained insights help creating a positive business impact?\n",
        "Are there any insights that lead to negative growth? Justify with specific reason."
      ],
      "metadata": {
        "id": "Seke61FWphqN"
      }
    },
    {
      "cell_type": "markdown",
      "source": [
        "Yes. Helps price short vs long trips better, and target flat fares more effectively.\n",
        "\n",
        "Outliers may indicate traffic delays or inefficient routing, leading to customer frustration."
      ],
      "metadata": {
        "id": "DW4_bGpfphqN"
      }
    },
    {
      "cell_type": "markdown",
      "source": [
        "#### Chart - 7 : % of No Cars/Cancellations per Time Slot"
      ],
      "metadata": {
        "id": "PIIx-8_IphqN"
      }
    },
    {
      "cell_type": "code",
      "source": [
        "#7 % of No Cars/Cancellations per Time Slot\n",
        "\n",
        "plt.figure(figsize=(10,5))\n",
        "sns.barplot(x='Time Slot', y='percent', hue='Status', data=slot_status, order=['Late Night', 'Morning', 'Day', 'Evening'])\n",
        "plt.title('Percentage of Each Status per Time Slot')\n",
        "plt.ylabel('% of Requests')\n",
        "plt.show()\n"
      ],
      "metadata": {
        "id": "lqAIGUfyphqO"
      },
      "execution_count": null,
      "outputs": []
    },
    {
      "cell_type": "markdown",
      "source": [
        "Gives clear % context — e.g., Morning = 55% No Cars Available at Airport."
      ],
      "metadata": {
        "id": "Po6ZPi4hphqO"
      }
    },
    {
      "cell_type": "markdown",
      "source": [
        "##### 1. Why did you pick the specific chart?"
      ],
      "metadata": {
        "id": "t27r6nlMphqO"
      }
    },
    {
      "cell_type": "markdown",
      "source": [
        "To identify which time slots have the most unfulfilled demand — a stacked percentage bar chart reveals imbalance quickly."
      ],
      "metadata": {
        "id": "iv6ro40sphqO"
      }
    },
    {
      "cell_type": "markdown",
      "source": [
        "##### 3. Will the gained insights help creating a positive business impact?\n",
        "Are there any insights that lead to negative growth? Justify with specific reason."
      ],
      "metadata": {
        "id": "b0JNsNcRphqO"
      }
    },
    {
      "cell_type": "markdown",
      "source": [
        "Yes. Lets Uber customize solutions per time slot — more drivers in morning, cancellation deterrents in evening.\n",
        "\n",
        "Yes. If Morning No Car rates persist, it can cause long-term user churn during a mission-critical window."
      ],
      "metadata": {
        "id": "xvSq8iUTphqO"
      }
    },
    {
      "cell_type": "markdown",
      "source": [
        "#### Chart - 8 : Pickup Point vs Time Slot Heatmap"
      ],
      "metadata": {
        "id": "BZR9WyysphqO"
      }
    },
    {
      "cell_type": "code",
      "source": [
        "#8 Pickup Point vs Time Slot Heatmap\n",
        "\n",
        "plt.figure(figsize=(6,4))\n",
        "sns.heatmap(pt_heat, annot=True, fmt=\".0f\", cmap=\"YlOrBr\")\n",
        "plt.title('Request Outcomes by Pickup Point and Time Slot')\n",
        "plt.show()\n"
      ],
      "metadata": {
        "id": "TdPTWpAVphqO"
      },
      "execution_count": null,
      "outputs": []
    },
    {
      "cell_type": "markdown",
      "source": [
        "Shows which pickup+time combos are broken (e.g., Airport+Morning = red zone)."
      ],
      "metadata": {
        "id": "mZtgC_hjphqO"
      }
    },
    {
      "cell_type": "markdown",
      "source": [
        "##### 1. Why did you pick the specific chart?"
      ],
      "metadata": {
        "id": "jj7wYXLtphqO"
      }
    },
    {
      "cell_type": "markdown",
      "source": [
        "To cross-analyze time + location together, which helps identify specific problem zones (like Airport in Morning)."
      ],
      "metadata": {
        "id": "Ob8u6rCTphqO"
      }
    },
    {
      "cell_type": "markdown",
      "source": [
        "##### 3. Will the gained insights help creating a positive business impact?\n",
        "Are there any insights that lead to negative growth? Justify with specific reason."
      ],
      "metadata": {
        "id": "rFu4xreNphqO"
      }
    },
    {
      "cell_type": "markdown",
      "source": [
        "Yes. This level of granularity helps Uber focus supply and outreach surgically, not just broadly.\n",
        "\n",
        "\n",
        "Airport-Morning users are often time-sensitive (flights). Continued failure here will lead to high-value customer churn.\n",
        "\n"
      ],
      "metadata": {
        "id": "ey_0qi68phqO"
      }
    },
    {
      "cell_type": "markdown",
      "source": [
        "#### Chart - 9 : Line Plot of Requests Over Time (Daily)"
      ],
      "metadata": {
        "id": "YJ55k-q6phqO"
      }
    },
    {
      "cell_type": "code",
      "source": [
        "#9 Line Plot of Requests Over Time (Daily)\n",
        "\n",
        "plt.figure(figsize=(8,4))\n",
        "sns.lineplot(x='Request Date', y='Requests', data=requests_per_day, marker='o')\n",
        "plt.title('Total Requests Over Days')\n",
        "plt.xticks(rotation=45)\n",
        "plt.grid()\n",
        "plt.show()"
      ],
      "metadata": {
        "id": "B2aS4O1ophqO"
      },
      "execution_count": null,
      "outputs": []
    },
    {
      "cell_type": "markdown",
      "source": [
        "##### 1. Why did you pick the specific chart?"
      ],
      "metadata": {
        "id": "gCFgpxoyphqP"
      }
    },
    {
      "cell_type": "markdown",
      "source": [
        "To observe daily request patterns and identify anomalies or consistent growth."
      ],
      "metadata": {
        "id": "TVxDimi2phqP"
      }
    },
    {
      "cell_type": "markdown",
      "source": [
        "##### 3. Will the gained insights help creating a positive business impact?\n",
        "Are there any insights that lead to negative growth? Justify with specific reason."
      ],
      "metadata": {
        "id": "lssrdh5qphqQ"
      }
    },
    {
      "cell_type": "markdown",
      "source": [
        "Yes. Confirms Uber can rely on consistent demand and plan driver schedules with confidence.\n",
        "\n",
        "\n",
        "Not directly — but any future daily dips (e.g., drop after cancellations spike) can be early signs of customer dissatisfaction."
      ],
      "metadata": {
        "id": "tBpY5ekJphqQ"
      }
    },
    {
      "cell_type": "markdown",
      "source": [
        "## **5. Solution to Business Objective**"
      ],
      "metadata": {
        "id": "JcMwzZxoAimU"
      }
    },
    {
      "cell_type": "markdown",
      "source": [
        "#### What do you suggest the client to achieve Business Objective ?\n",
        "Explain Briefly."
      ],
      "metadata": {
        "id": "8G2x9gOozGDZ"
      }
    },
    {
      "cell_type": "markdown",
      "source": [
        " 1. Increase Driver Availability During Morning Hours : Morning (5–9 AM) shows the highest demand but lowest completion rates, especially at the Airport.\n",
        "\n",
        "    Recommendation:\n",
        "\n",
        "    * Offer time-based driver incentives or bonuses during Morning shifts.\n",
        "    * Use notifications to encourage driver logins before 5 AM, especially around airports.\n",
        "\n",
        "2. Deploy Targeted Supply at the Airport : Airport pickups consistently suffer from \"No Cars Available,\" especially in the Morning.\n",
        "\n",
        "    Recommendation:\n",
        "\n",
        "    * Assign a minimum driver quota to be present near airports during high-demand slots.\n",
        "    * Create dynamic geofenced incentives for drivers in airport zones.\n",
        "\n",
        "3. Reduce Evening Cancellations from City : Cancellations are highest in the Evening, mostly from City pickups.\n",
        "\n",
        "    Recommendation:\n",
        "      \n",
        "    * Introduce cancellation penalties or delay deterrents for drivers.\n",
        "    * Use customer alerts: “High cancellation zone — request another ride in X mins.”\n",
        "\n",
        "5. Focus on High-Risk Segments (Airport-Morning Users) : Airport-Morning users are time-sensitive (flights, early commutes).\n",
        "\n",
        "    Recommendation:\n",
        "\n",
        "    * Flag these users for priority fulfillment or guaranteed rides.\n",
        "    * Consider offering premium ride guarantees or loyalty credits if no cars are available."
      ],
      "metadata": {
        "id": "pASKb0qOza21"
      }
    },
    {
      "cell_type": "markdown",
      "source": [
        "# **Conclusion**"
      ],
      "metadata": {
        "id": "gCX9965dhzqZ"
      }
    },
    {
      "cell_type": "markdown",
      "source": [
        "Key findings include:\n",
        "\n",
        "* High demand but low fulfillment during Morning slots, especially at the Airport, due to unavailability of drivers.\n",
        "\n",
        "* Evening slot shows a spike in cancellations, particularly in City pickups, indicating possible driver disengagement or traffic-related hesitations.\n",
        "\n",
        "* Trip completion rates vary significantly based on the combination of time slot and pickup point, making it crucial for Uber to approach resource allocation more surgically.\n",
        "\n",
        "* Most trips are short (~<30 minutes), which indicates high potential for high turnover if demand is met effectively.Write the conclusion here."
      ],
      "metadata": {
        "id": "Fjb1IsQkh3yE"
      }
    }
  ]
}